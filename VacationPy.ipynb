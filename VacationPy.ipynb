{
 "cells": [
  {
   "cell_type": "markdown",
   "metadata": {},
   "source": [
    "# VacationPy\n",
    "----\n",
    "\n",
    "#### Note\n",
    "* Keep an eye on your API usage. Use https://developers.google.com/maps/reporting/gmp-reporting as reference for how to monitor your usage and billing.\n",
    "\n",
    "* Instructions have been included for each segment. You do not have to follow them exactly, but they are included to help you think through the steps."
   ]
  },
  {
   "cell_type": "code",
   "execution_count": 15,
   "metadata": {},
   "outputs": [],
   "source": [
    "# Dependencies and Setup\n",
    "import matplotlib.pyplot as plt\n",
    "import pandas as pd\n",
    "import numpy as np\n",
    "import requests\n",
    "import gmaps\n",
    "import os\n",
    "import json\n",
    "\n",
    "# Import API key\n",
    "from api_keys import g_key"
   ]
  },
  {
   "cell_type": "markdown",
   "metadata": {},
   "source": [
    "### Store Part I results into DataFrame\n",
    "* Load the csv exported in Part I to a DataFrame"
   ]
  },
  {
   "cell_type": "code",
   "execution_count": 3,
   "metadata": {},
   "outputs": [
    {
     "output_type": "execute_result",
     "data": {
      "text/plain": "  City Name    Lat    Long  Max Temp  Cloudiness  Humidity  Wind Speed Country\n0   rikitea -23.12 -134.97     73.33       100.0      84.0       20.69      PF\n1     ancud -41.87  -73.82     48.99        92.0      97.0       20.00      CL\n2   qaanaaq  77.48  -69.36     25.86        98.0      77.0        9.10      GL\n3    hobart -42.88  147.33     48.20        99.0      66.0       12.75      AU\n4   mataura -46.19  168.86     42.01        54.0      87.0        1.41      NZ",
      "text/html": "<div>\n<style scoped>\n    .dataframe tbody tr th:only-of-type {\n        vertical-align: middle;\n    }\n\n    .dataframe tbody tr th {\n        vertical-align: top;\n    }\n\n    .dataframe thead th {\n        text-align: right;\n    }\n</style>\n<table border=\"1\" class=\"dataframe\">\n  <thead>\n    <tr style=\"text-align: right;\">\n      <th></th>\n      <th>City Name</th>\n      <th>Lat</th>\n      <th>Long</th>\n      <th>Max Temp</th>\n      <th>Cloudiness</th>\n      <th>Humidity</th>\n      <th>Wind Speed</th>\n      <th>Country</th>\n    </tr>\n  </thead>\n  <tbody>\n    <tr>\n      <th>0</th>\n      <td>rikitea</td>\n      <td>-23.12</td>\n      <td>-134.97</td>\n      <td>73.33</td>\n      <td>100.0</td>\n      <td>84.0</td>\n      <td>20.69</td>\n      <td>PF</td>\n    </tr>\n    <tr>\n      <th>1</th>\n      <td>ancud</td>\n      <td>-41.87</td>\n      <td>-73.82</td>\n      <td>48.99</td>\n      <td>92.0</td>\n      <td>97.0</td>\n      <td>20.00</td>\n      <td>CL</td>\n    </tr>\n    <tr>\n      <th>2</th>\n      <td>qaanaaq</td>\n      <td>77.48</td>\n      <td>-69.36</td>\n      <td>25.86</td>\n      <td>98.0</td>\n      <td>77.0</td>\n      <td>9.10</td>\n      <td>GL</td>\n    </tr>\n    <tr>\n      <th>3</th>\n      <td>hobart</td>\n      <td>-42.88</td>\n      <td>147.33</td>\n      <td>48.20</td>\n      <td>99.0</td>\n      <td>66.0</td>\n      <td>12.75</td>\n      <td>AU</td>\n    </tr>\n    <tr>\n      <th>4</th>\n      <td>mataura</td>\n      <td>-46.19</td>\n      <td>168.86</td>\n      <td>42.01</td>\n      <td>54.0</td>\n      <td>87.0</td>\n      <td>1.41</td>\n      <td>NZ</td>\n    </tr>\n  </tbody>\n</table>\n</div>"
     },
     "metadata": {},
     "execution_count": 3
    }
   ],
   "source": [
    "data=pd.read_csv('WeatherPy/city_data.csv')\n",
    "locations=data[['Lat','Long']]\n",
    "Humidity=data['Humidity']\n",
    "data.head()"
   ]
  },
  {
   "cell_type": "markdown",
   "metadata": {},
   "source": [
    "### Humidity Heatmap\n",
    "* Configure gmaps.\n",
    "* Use the Lat and Lng as locations and Humidity as the weight.\n",
    "* Add Heatmap layer to map."
   ]
  },
  {
   "cell_type": "code",
   "execution_count": 4,
   "metadata": {},
   "outputs": [
    {
     "output_type": "display_data",
     "data": {
      "text/plain": "Figure(layout=FigureLayout(border='1px solid black', height='300px', margin='0 auto 0 auto', padding='1px', wi…",
      "application/vnd.jupyter.widget-view+json": {
       "version_major": 2,
       "version_minor": 0,
       "model_id": "4702efad21a248edbcbd187a872909ca"
      }
     },
     "metadata": {}
    }
   ],
   "source": [
    "gmaps.configure(api_key=g_key)\n",
    "figure_layout = {\n",
    "    'width': '400px',\n",
    "    'height': '300px',\n",
    "    'border': '1px solid black',\n",
    "    'padding': '1px',\n",
    "    'margin': '0 auto 0 auto'\n",
    "}\n",
    "fig = gmaps.figure(layout=figure_layout)\n",
    "heat_layer = gmaps.heatmap_layer(locations, weights=Humidity, \n",
    "                                 dissipating=False, max_intensity=10,\n",
    "                                 point_radius=1)\n",
    "fig.add_layer(heat_layer)\n",
    "fig"
   ]
  },
  {
   "cell_type": "code",
   "execution_count": null,
   "metadata": {},
   "outputs": [],
   "source": []
  },
  {
   "cell_type": "markdown",
   "metadata": {},
   "source": [
    "### Create new DataFrame fitting weather criteria\n",
    "* Narrow down the cities to fit weather conditions.\n",
    "* Drop any rows will null values."
   ]
  },
  {
   "cell_type": "code",
   "execution_count": 13,
   "metadata": {},
   "outputs": [],
   "source": [
    "lat=data['Lat'][1]\n"
   ]
  },
  {
   "cell_type": "code",
   "execution_count": 37,
   "metadata": {
    "tags": []
   },
   "outputs": [
    {
     "output_type": "execute_result",
     "data": {
      "text/plain": "                               Hotel Name  Hotel Lat   Hotel Lng\n0                          Pension Maro'i -23.120620 -134.968753\n1                      Hotel Arena Gruesa -41.860358  -73.822419\n2                           Qaanaaq Hotel  77.469287  -69.231591\n3   St Ives Hobart Accommodation Tasmania -42.891150  147.329667\n4                           Ellie's Villa -46.201943  168.855043\n5      Bora-Bora Pearl Beach Resort & Spa -16.475941 -151.772479\n6                          Albatros Hotel -54.806967  -68.304891\n7               Apartments Mezhdurechensk  53.688791   88.078306\n8                              Gostinitsa  68.756827  161.327610\n9             Hotel JM Puerto del Rosario  28.499081  -13.857706\n10               Maqna Hotel by Prasanthi   0.537819  123.062642\n11                                Tu Casa -32.985159   27.923570\n12              Hotel Dreams Del Estrecho -53.165952  -70.906212\n13               Bredasdorp Country Manor -34.532990   20.035920\n14                                  荣立大酒店  24.404459  109.605991\n15                Pousada Porto De Canoas -21.640823  -41.052153\n16                         King Eider Inn  71.288067 -156.772291\n17                Katsuura Hotel Mikazuki  35.149827  140.309515\n18          Courtyard by Marriott Danbury  41.411371  -73.415265\n19                         Blue Bay Lodge -32.995413   17.973140\n20                    Casa Hotel Victoria   6.188846  -67.483564\n21                    Pousada Porto Praia -22.977816  -42.023884\n22        The LaLiT Temple View Khajuraho  24.857518   79.921095\n23                          Talnakh Hotel  69.497648   88.399472\n24                        Shingu UI Hotel  33.722728  135.991572\n25                Oyster Bay House Rental -34.002718   24.743974\n26                     Isles Sunset Lodge   3.071017  172.789931\n27                          Dhidhoo beach   6.889770   73.107447\n28                           Gallows Cove  47.668603  -52.727658\n29                  Mantra Trilogy Cairns -16.918754  145.775359\n30                              Kost Pria   4.156700   96.125910\n31              Chen's Maligcong Homestay  17.122681  120.975937\n32                                   Zori  62.513846  155.785782\n33                   Ahipara Holiday Park -35.160363  173.161348\n34                        Hôtel Le Dronmi   4.938796  -52.331408\n35                       Lumphat Homestay  13.483340  106.980135\n36              Broadwater Mariner Resort -28.749328  114.619364\n37   QC Terme Bagni di Bormio Bagni Nuovi  46.486378   10.360793\n38                              Ikathouse  40.461418   71.728314\n39                          Stonewall Inn  47.610820  -53.283097\n40                           Hotel Arctic  69.226957  -51.093159\n41                          Raj Residency  18.813802   82.708126\n42                     Fengshui Residence  -0.717348    8.782250\n43                 Hotel Executivo Palace -13.280485  -50.176112\n44                      Nile Palace Hotel   9.515724   31.655986\n45    Radisson Hotel Decapolis Miraflores -12.125402  -77.032871\n46              Finch Bay Galapagos Hotel  -0.753339  -90.311600\n47                   End of The Road Ltd.  69.449813 -133.038017",
      "text/html": "<div>\n<style scoped>\n    .dataframe tbody tr th:only-of-type {\n        vertical-align: middle;\n    }\n\n    .dataframe tbody tr th {\n        vertical-align: top;\n    }\n\n    .dataframe thead th {\n        text-align: right;\n    }\n</style>\n<table border=\"1\" class=\"dataframe\">\n  <thead>\n    <tr style=\"text-align: right;\">\n      <th></th>\n      <th>Hotel Name</th>\n      <th>Hotel Lat</th>\n      <th>Hotel Lng</th>\n    </tr>\n  </thead>\n  <tbody>\n    <tr>\n      <th>0</th>\n      <td>Pension Maro'i</td>\n      <td>-23.120620</td>\n      <td>-134.968753</td>\n    </tr>\n    <tr>\n      <th>1</th>\n      <td>Hotel Arena Gruesa</td>\n      <td>-41.860358</td>\n      <td>-73.822419</td>\n    </tr>\n    <tr>\n      <th>2</th>\n      <td>Qaanaaq Hotel</td>\n      <td>77.469287</td>\n      <td>-69.231591</td>\n    </tr>\n    <tr>\n      <th>3</th>\n      <td>St Ives Hobart Accommodation Tasmania</td>\n      <td>-42.891150</td>\n      <td>147.329667</td>\n    </tr>\n    <tr>\n      <th>4</th>\n      <td>Ellie's Villa</td>\n      <td>-46.201943</td>\n      <td>168.855043</td>\n    </tr>\n    <tr>\n      <th>5</th>\n      <td>Bora-Bora Pearl Beach Resort &amp; Spa</td>\n      <td>-16.475941</td>\n      <td>-151.772479</td>\n    </tr>\n    <tr>\n      <th>6</th>\n      <td>Albatros Hotel</td>\n      <td>-54.806967</td>\n      <td>-68.304891</td>\n    </tr>\n    <tr>\n      <th>7</th>\n      <td>Apartments Mezhdurechensk</td>\n      <td>53.688791</td>\n      <td>88.078306</td>\n    </tr>\n    <tr>\n      <th>8</th>\n      <td>Gostinitsa</td>\n      <td>68.756827</td>\n      <td>161.327610</td>\n    </tr>\n    <tr>\n      <th>9</th>\n      <td>Hotel JM Puerto del Rosario</td>\n      <td>28.499081</td>\n      <td>-13.857706</td>\n    </tr>\n    <tr>\n      <th>10</th>\n      <td>Maqna Hotel by Prasanthi</td>\n      <td>0.537819</td>\n      <td>123.062642</td>\n    </tr>\n    <tr>\n      <th>11</th>\n      <td>Tu Casa</td>\n      <td>-32.985159</td>\n      <td>27.923570</td>\n    </tr>\n    <tr>\n      <th>12</th>\n      <td>Hotel Dreams Del Estrecho</td>\n      <td>-53.165952</td>\n      <td>-70.906212</td>\n    </tr>\n    <tr>\n      <th>13</th>\n      <td>Bredasdorp Country Manor</td>\n      <td>-34.532990</td>\n      <td>20.035920</td>\n    </tr>\n    <tr>\n      <th>14</th>\n      <td>荣立大酒店</td>\n      <td>24.404459</td>\n      <td>109.605991</td>\n    </tr>\n    <tr>\n      <th>15</th>\n      <td>Pousada Porto De Canoas</td>\n      <td>-21.640823</td>\n      <td>-41.052153</td>\n    </tr>\n    <tr>\n      <th>16</th>\n      <td>King Eider Inn</td>\n      <td>71.288067</td>\n      <td>-156.772291</td>\n    </tr>\n    <tr>\n      <th>17</th>\n      <td>Katsuura Hotel Mikazuki</td>\n      <td>35.149827</td>\n      <td>140.309515</td>\n    </tr>\n    <tr>\n      <th>18</th>\n      <td>Courtyard by Marriott Danbury</td>\n      <td>41.411371</td>\n      <td>-73.415265</td>\n    </tr>\n    <tr>\n      <th>19</th>\n      <td>Blue Bay Lodge</td>\n      <td>-32.995413</td>\n      <td>17.973140</td>\n    </tr>\n    <tr>\n      <th>20</th>\n      <td>Casa Hotel Victoria</td>\n      <td>6.188846</td>\n      <td>-67.483564</td>\n    </tr>\n    <tr>\n      <th>21</th>\n      <td>Pousada Porto Praia</td>\n      <td>-22.977816</td>\n      <td>-42.023884</td>\n    </tr>\n    <tr>\n      <th>22</th>\n      <td>The LaLiT Temple View Khajuraho</td>\n      <td>24.857518</td>\n      <td>79.921095</td>\n    </tr>\n    <tr>\n      <th>23</th>\n      <td>Talnakh Hotel</td>\n      <td>69.497648</td>\n      <td>88.399472</td>\n    </tr>\n    <tr>\n      <th>24</th>\n      <td>Shingu UI Hotel</td>\n      <td>33.722728</td>\n      <td>135.991572</td>\n    </tr>\n    <tr>\n      <th>25</th>\n      <td>Oyster Bay House Rental</td>\n      <td>-34.002718</td>\n      <td>24.743974</td>\n    </tr>\n    <tr>\n      <th>26</th>\n      <td>Isles Sunset Lodge</td>\n      <td>3.071017</td>\n      <td>172.789931</td>\n    </tr>\n    <tr>\n      <th>27</th>\n      <td>Dhidhoo beach</td>\n      <td>6.889770</td>\n      <td>73.107447</td>\n    </tr>\n    <tr>\n      <th>28</th>\n      <td>Gallows Cove</td>\n      <td>47.668603</td>\n      <td>-52.727658</td>\n    </tr>\n    <tr>\n      <th>29</th>\n      <td>Mantra Trilogy Cairns</td>\n      <td>-16.918754</td>\n      <td>145.775359</td>\n    </tr>\n    <tr>\n      <th>30</th>\n      <td>Kost Pria</td>\n      <td>4.156700</td>\n      <td>96.125910</td>\n    </tr>\n    <tr>\n      <th>31</th>\n      <td>Chen's Maligcong Homestay</td>\n      <td>17.122681</td>\n      <td>120.975937</td>\n    </tr>\n    <tr>\n      <th>32</th>\n      <td>Zori</td>\n      <td>62.513846</td>\n      <td>155.785782</td>\n    </tr>\n    <tr>\n      <th>33</th>\n      <td>Ahipara Holiday Park</td>\n      <td>-35.160363</td>\n      <td>173.161348</td>\n    </tr>\n    <tr>\n      <th>34</th>\n      <td>Hôtel Le Dronmi</td>\n      <td>4.938796</td>\n      <td>-52.331408</td>\n    </tr>\n    <tr>\n      <th>35</th>\n      <td>Lumphat Homestay</td>\n      <td>13.483340</td>\n      <td>106.980135</td>\n    </tr>\n    <tr>\n      <th>36</th>\n      <td>Broadwater Mariner Resort</td>\n      <td>-28.749328</td>\n      <td>114.619364</td>\n    </tr>\n    <tr>\n      <th>37</th>\n      <td>QC Terme Bagni di Bormio Bagni Nuovi</td>\n      <td>46.486378</td>\n      <td>10.360793</td>\n    </tr>\n    <tr>\n      <th>38</th>\n      <td>Ikathouse</td>\n      <td>40.461418</td>\n      <td>71.728314</td>\n    </tr>\n    <tr>\n      <th>39</th>\n      <td>Stonewall Inn</td>\n      <td>47.610820</td>\n      <td>-53.283097</td>\n    </tr>\n    <tr>\n      <th>40</th>\n      <td>Hotel Arctic</td>\n      <td>69.226957</td>\n      <td>-51.093159</td>\n    </tr>\n    <tr>\n      <th>41</th>\n      <td>Raj Residency</td>\n      <td>18.813802</td>\n      <td>82.708126</td>\n    </tr>\n    <tr>\n      <th>42</th>\n      <td>Fengshui Residence</td>\n      <td>-0.717348</td>\n      <td>8.782250</td>\n    </tr>\n    <tr>\n      <th>43</th>\n      <td>Hotel Executivo Palace</td>\n      <td>-13.280485</td>\n      <td>-50.176112</td>\n    </tr>\n    <tr>\n      <th>44</th>\n      <td>Nile Palace Hotel</td>\n      <td>9.515724</td>\n      <td>31.655986</td>\n    </tr>\n    <tr>\n      <th>45</th>\n      <td>Radisson Hotel Decapolis Miraflores</td>\n      <td>-12.125402</td>\n      <td>-77.032871</td>\n    </tr>\n    <tr>\n      <th>46</th>\n      <td>Finch Bay Galapagos Hotel</td>\n      <td>-0.753339</td>\n      <td>-90.311600</td>\n    </tr>\n    <tr>\n      <th>47</th>\n      <td>End of The Road Ltd.</td>\n      <td>69.449813</td>\n      <td>-133.038017</td>\n    </tr>\n  </tbody>\n</table>\n</div>"
     },
     "metadata": {},
     "execution_count": 37
    }
   ],
   "source": [
    "hotel_df=pd.DataFrame({'Hotel Name':[],\n",
    "                       'Hotel Lat':[],\n",
    "                       'Hotel Lng':[]})\n",
    "\n",
    "for x in range(len(data)):\n",
    "    lat=data['Lat'][x]\n",
    "    lng=data['Long'][x]\n",
    "    target_coordinates=f'{lat},{lng}'\n",
    "    target_radius=5000\n",
    "    target_type='lodging'\n",
    "\n",
    "    params = {\n",
    "        \"location\": target_coordinates,\n",
    "        \"radius\": target_radius,\n",
    "        \"type\": target_type,\n",
    "        \"key\": g_key\n",
    "    }\n",
    "\n",
    "    base_url = \"https://maps.googleapis.com/maps/api/place/nearbysearch/json\"\n",
    "\n",
    "    response = requests.get(base_url, params=params)\n",
    "\n",
    "    hotel_data = response.json()\n",
    "    #print(json.dumps(hotel_data, indent=4, sort_keys=True))\n",
    "\n",
    "    hotel_df.at[x,'Hotel Name']=hotel_data['results'][0]['name']\n",
    "    hotel_df.at[x,'Hotel Lat']=hotel_data['results'][0]['geometry']['location']['lat']\n",
    "    hotel_df.at[x,'Hotel Lng']=hotel_data['results'][0]['geometry']['location']['lng']\n",
    "\n",
    "hotel_df"
   ]
  },
  {
   "cell_type": "markdown",
   "metadata": {},
   "source": [
    "### Hotel Map\n",
    "* Store into variable named `hotel_df`.\n",
    "* Add a \"Hotel Name\" column to the DataFrame.\n",
    "* Set parameters to search for hotels with 5000 meters.\n",
    "* Hit the Google Places API for each city's coordinates.\n",
    "* Store the first Hotel result into the DataFrame.\n",
    "* Plot markers on top of the heatmap."
   ]
  },
  {
   "cell_type": "code",
   "execution_count": null,
   "metadata": {},
   "outputs": [],
   "source": []
  },
  {
   "cell_type": "code",
   "execution_count": 41,
   "metadata": {},
   "outputs": [
    {
     "output_type": "display_data",
     "data": {
      "text/plain": "Figure(layout=FigureLayout(border='1px solid black', height='300px', margin='0 auto 0 auto', padding='1px', wi…",
      "application/vnd.jupyter.widget-view+json": {
       "version_major": 2,
       "version_minor": 0,
       "model_id": "7303457525f14a0ea25aee9eb37c77ab"
      }
     },
     "metadata": {}
    }
   ],
   "source": [
    "# Add marker layer ontop of heat map\n",
    "fig = gmaps.figure(layout=figure_layout)\n",
    "heat_layer = gmaps.heatmap_layer(locations, weights=Humidity, \n",
    "                                 dissipating=False, max_intensity=10,\n",
    "                                 point_radius=1)\n",
    "fig.add_layer(heat_layer)\n",
    "markers_coord=hotel_df[['Hotel Lat', 'Hotel Lng']]\n",
    "markers=gmaps.marker_layer(markers_coord)\n",
    "fig.add_layer(markers)\n",
    "fig\n",
    "# Display figure\n"
   ]
  },
  {
   "cell_type": "code",
   "execution_count": null,
   "metadata": {},
   "outputs": [],
   "source": []
  }
 ],
 "metadata": {
  "kernelspec": {
   "display_name": "Python 3.6.10 64-bit ('bcs': conda)",
   "language": "python",
   "name": "python_defaultSpec_1599867671551"
  },
  "language_info": {
   "codemirror_mode": {
    "name": "ipython",
    "version": 3
   },
   "file_extension": ".py",
   "mimetype": "text/x-python",
   "name": "python",
   "nbconvert_exporter": "python",
   "pygments_lexer": "ipython3",
   "version": "3.6.10-final"
  },
  "latex_envs": {
   "LaTeX_envs_menu_present": true,
   "autoclose": false,
   "autocomplete": true,
   "bibliofile": "biblio.bib",
   "cite_by": "apalike",
   "current_citInitial": 1,
   "eqLabelWithNumbers": true,
   "eqNumInitial": 1,
   "hotkeys": {
    "equation": "Ctrl-E",
    "itemize": "Ctrl-I"
   },
   "labels_anchors": false,
   "latex_user_defs": false,
   "report_style_numbering": false,
   "user_envs_cfg": false
  }
 },
 "nbformat": 4,
 "nbformat_minor": 4
}