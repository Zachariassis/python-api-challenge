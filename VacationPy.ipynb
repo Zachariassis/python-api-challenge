{
 "cells": [
  {
   "cell_type": "markdown",
   "metadata": {},
   "source": [
    "# VacationPy\n",
    "----\n",
    "\n",
    "#### Note\n",
    "* Keep an eye on your API usage. Use https://developers.google.com/maps/reporting/gmp-reporting as reference for how to monitor your usage and billing.\n",
    "\n",
    "* Instructions have been included for each segment. You do not have to follow them exactly, but they are included to help you think through the steps."
   ]
  },
  {
   "cell_type": "code",
   "execution_count": 15,
   "metadata": {},
   "outputs": [],
   "source": [
    "# Dependencies and Setup\n",
    "import matplotlib.pyplot as plt\n",
    "import pandas as pd\n",
    "import numpy as np\n",
    "import requests\n",
    "import gmaps\n",
    "import os\n",
    "import json\n",
    "\n",
    "# Import API key\n",
    "from api_keys import g_key"
   ]
  },
  {
   "cell_type": "markdown",
   "metadata": {},
   "source": [
    "### Store Part I results into DataFrame\n",
    "* Load the csv exported in Part I to a DataFrame"
   ]
  },
  {
   "cell_type": "code",
   "execution_count": 3,
   "metadata": {},
   "outputs": [
    {
     "output_type": "execute_result",
     "data": {
      "text/plain": "  City Name    Lat    Long  Max Temp  Cloudiness  Humidity  Wind Speed Country\n0   rikitea -23.12 -134.97     73.33       100.0      84.0       20.69      PF\n1     ancud -41.87  -73.82     48.99        92.0      97.0       20.00      CL\n2   qaanaaq  77.48  -69.36     25.86        98.0      77.0        9.10      GL\n3    hobart -42.88  147.33     48.20        99.0      66.0       12.75      AU\n4   mataura -46.19  168.86     42.01        54.0      87.0        1.41      NZ",
      "text/html": "<div>\n<style scoped>\n    .dataframe tbody tr th:only-of-type {\n        vertical-align: middle;\n    }\n\n    .dataframe tbody tr th {\n        vertical-align: top;\n    }\n\n    .dataframe thead th {\n        text-align: right;\n    }\n</style>\n<table border=\"1\" class=\"dataframe\">\n  <thead>\n    <tr style=\"text-align: right;\">\n      <th></th>\n      <th>City Name</th>\n      <th>Lat</th>\n      <th>Long</th>\n      <th>Max Temp</th>\n      <th>Cloudiness</th>\n      <th>Humidity</th>\n      <th>Wind Speed</th>\n      <th>Country</th>\n    </tr>\n  </thead>\n  <tbody>\n    <tr>\n      <th>0</th>\n      <td>rikitea</td>\n      <td>-23.12</td>\n      <td>-134.97</td>\n      <td>73.33</td>\n      <td>100.0</td>\n      <td>84.0</td>\n      <td>20.69</td>\n      <td>PF</td>\n    </tr>\n    <tr>\n      <th>1</th>\n      <td>ancud</td>\n      <td>-41.87</td>\n      <td>-73.82</td>\n      <td>48.99</td>\n      <td>92.0</td>\n      <td>97.0</td>\n      <td>20.00</td>\n      <td>CL</td>\n    </tr>\n    <tr>\n      <th>2</th>\n      <td>qaanaaq</td>\n      <td>77.48</td>\n      <td>-69.36</td>\n      <td>25.86</td>\n      <td>98.0</td>\n      <td>77.0</td>\n      <td>9.10</td>\n      <td>GL</td>\n    </tr>\n    <tr>\n      <th>3</th>\n      <td>hobart</td>\n      <td>-42.88</td>\n      <td>147.33</td>\n      <td>48.20</td>\n      <td>99.0</td>\n      <td>66.0</td>\n      <td>12.75</td>\n      <td>AU</td>\n    </tr>\n    <tr>\n      <th>4</th>\n      <td>mataura</td>\n      <td>-46.19</td>\n      <td>168.86</td>\n      <td>42.01</td>\n      <td>54.0</td>\n      <td>87.0</td>\n      <td>1.41</td>\n      <td>NZ</td>\n    </tr>\n  </tbody>\n</table>\n</div>"
     },
     "metadata": {},
     "execution_count": 3
    }
   ],
   "source": [
    "#Import data from csv\n",
    "data=pd.read_csv('WeatherPy/city_data.csv')\n",
    "#Find components for heat map\n",
    "locations=data[['Lat','Long']]\n",
    "Humidity=data['Humidity']\n",
    "data.head()"
   ]
  },
  {
   "cell_type": "code",
   "execution_count": 4,
   "metadata": {},
   "outputs": [
    {
     "output_type": "display_data",
     "data": {
      "text/plain": "Figure(layout=FigureLayout(border='1px solid black', height='300px', margin='0 auto 0 auto', padding='1px', wi…",
      "application/vnd.jupyter.widget-view+json": {
       "version_major": 2,
       "version_minor": 0,
       "model_id": "4702efad21a248edbcbd187a872909ca"
      }
     },
     "metadata": {}
    }
   ],
   "source": [
    "#Display heat map\n",
    "gmaps.configure(api_key=g_key)\n",
    "figure_layout = {\n",
    "    'width': '400px',\n",
    "    'height': '300px',\n",
    "    'border': '1px solid black',\n",
    "    'padding': '1px',\n",
    "    'margin': '0 auto 0 auto'\n",
    "}\n",
    "fig = gmaps.figure(layout=figure_layout)\n",
    "heat_layer = gmaps.heatmap_layer(locations, weights=Humidity, \n",
    "                                 dissipating=False, max_intensity=10,\n",
    "                                 point_radius=1)\n",
    "fig.add_layer(heat_layer)\n",
    "fig"
   ]
  },
  {
   "cell_type": "code",
   "execution_count": 67,
   "metadata": {
    "tags": []
   },
   "outputs": [
    {
     "output_type": "execute_result",
     "data": {
      "text/plain": "           City Name    Lat    Long  Max Temp  Cloudiness  Humidity  \\\n0          gorontalo   0.54  123.06     75.20        78.0      88.0   \n1  sao joao da barra -21.64  -41.05     84.20        20.0      51.0   \n2     puerto carreno   6.19  -67.49     89.10        23.0      61.0   \n3          khajuraho  24.85   79.93     83.46        64.0      60.0   \n4             shingu  33.73  135.98     73.06        45.0      89.0   \n\n   Wind Speed Country  \n0        2.55      ID  \n1        4.70      BR  \n2        0.69      CO  \n3        3.33      IN  \n4        4.27      JP  ",
      "text/html": "<div>\n<style scoped>\n    .dataframe tbody tr th:only-of-type {\n        vertical-align: middle;\n    }\n\n    .dataframe tbody tr th {\n        vertical-align: top;\n    }\n\n    .dataframe thead th {\n        text-align: right;\n    }\n</style>\n<table border=\"1\" class=\"dataframe\">\n  <thead>\n    <tr style=\"text-align: right;\">\n      <th></th>\n      <th>City Name</th>\n      <th>Lat</th>\n      <th>Long</th>\n      <th>Max Temp</th>\n      <th>Cloudiness</th>\n      <th>Humidity</th>\n      <th>Wind Speed</th>\n      <th>Country</th>\n    </tr>\n  </thead>\n  <tbody>\n    <tr>\n      <th>0</th>\n      <td>gorontalo</td>\n      <td>0.54</td>\n      <td>123.06</td>\n      <td>75.20</td>\n      <td>78.0</td>\n      <td>88.0</td>\n      <td>2.55</td>\n      <td>ID</td>\n    </tr>\n    <tr>\n      <th>1</th>\n      <td>sao joao da barra</td>\n      <td>-21.64</td>\n      <td>-41.05</td>\n      <td>84.20</td>\n      <td>20.0</td>\n      <td>51.0</td>\n      <td>4.70</td>\n      <td>BR</td>\n    </tr>\n    <tr>\n      <th>2</th>\n      <td>puerto carreno</td>\n      <td>6.19</td>\n      <td>-67.49</td>\n      <td>89.10</td>\n      <td>23.0</td>\n      <td>61.0</td>\n      <td>0.69</td>\n      <td>CO</td>\n    </tr>\n    <tr>\n      <th>3</th>\n      <td>khajuraho</td>\n      <td>24.85</td>\n      <td>79.93</td>\n      <td>83.46</td>\n      <td>64.0</td>\n      <td>60.0</td>\n      <td>3.33</td>\n      <td>IN</td>\n    </tr>\n    <tr>\n      <th>4</th>\n      <td>shingu</td>\n      <td>33.73</td>\n      <td>135.98</td>\n      <td>73.06</td>\n      <td>45.0</td>\n      <td>89.0</td>\n      <td>4.27</td>\n      <td>JP</td>\n    </tr>\n  </tbody>\n</table>\n</div>"
     },
     "metadata": {},
     "execution_count": 67
    }
   ],
   "source": [
    "#Specify Data\n",
    "\n",
    "#Not too windy\n",
    "data_specific=data.loc[data['Wind Speed']<5]\n",
    "\n",
    "#Not too hot\n",
    "data_specific=data_specific.loc[data_specific['Max Temp']<90]\n",
    "\n",
    "#Not too cold\n",
    "data_specific=data_specific.loc[data_specific['Max Temp']>70]\n",
    "\n",
    "#Not too cloudy\n",
    "data_specific=data_specific.loc[data_specific['Cloudiness']<80]\n",
    "data_specific=data_specific.reset_index(drop=True)\n",
    "data_specific\n"
   ]
  },
  {
   "cell_type": "code",
   "execution_count": 70,
   "metadata": {
    "tags": []
   },
   "outputs": [
    {
     "output_type": "execute_result",
     "data": {
      "text/plain": "                        Hotel Name  Hotel Lat   Hotel Lng\n0         Maqna Hotel by Prasanthi   0.537819  123.062642\n1          Pousada Porto De Canoas -21.640823  -41.052153\n2              Casa Hotel Victoria   6.188846  -67.483564\n3  The LaLiT Temple View Khajuraho  24.857518   79.921095\n4                  Shingu UI Hotel  33.722728  135.991572",
      "text/html": "<div>\n<style scoped>\n    .dataframe tbody tr th:only-of-type {\n        vertical-align: middle;\n    }\n\n    .dataframe tbody tr th {\n        vertical-align: top;\n    }\n\n    .dataframe thead th {\n        text-align: right;\n    }\n</style>\n<table border=\"1\" class=\"dataframe\">\n  <thead>\n    <tr style=\"text-align: right;\">\n      <th></th>\n      <th>Hotel Name</th>\n      <th>Hotel Lat</th>\n      <th>Hotel Lng</th>\n    </tr>\n  </thead>\n  <tbody>\n    <tr>\n      <th>0</th>\n      <td>Maqna Hotel by Prasanthi</td>\n      <td>0.537819</td>\n      <td>123.062642</td>\n    </tr>\n    <tr>\n      <th>1</th>\n      <td>Pousada Porto De Canoas</td>\n      <td>-21.640823</td>\n      <td>-41.052153</td>\n    </tr>\n    <tr>\n      <th>2</th>\n      <td>Casa Hotel Victoria</td>\n      <td>6.188846</td>\n      <td>-67.483564</td>\n    </tr>\n    <tr>\n      <th>3</th>\n      <td>The LaLiT Temple View Khajuraho</td>\n      <td>24.857518</td>\n      <td>79.921095</td>\n    </tr>\n    <tr>\n      <th>4</th>\n      <td>Shingu UI Hotel</td>\n      <td>33.722728</td>\n      <td>135.991572</td>\n    </tr>\n  </tbody>\n</table>\n</div>"
     },
     "metadata": {},
     "execution_count": 70
    }
   ],
   "source": [
    "#Initialize hotel dataframe\n",
    "\n",
    "hotel_df=pd.DataFrame({'Hotel Name':[],\n",
    "                       'Hotel Lat':[],\n",
    "                       'Hotel Lng':[]})\n",
    "\n",
    "#Run api search for hotels near each city\n",
    "for x in range(len(data_specific)):\n",
    "    #build url to search\n",
    "    lat=data_specific['Lat'][x]\n",
    "    lng=data_specific['Long'][x]\n",
    "    target_coordinates=f'{lat},{lng}'\n",
    "    target_radius=5000\n",
    "    target_type='lodging'\n",
    "\n",
    "    params = {\n",
    "        \"location\": target_coordinates,\n",
    "        \"radius\": target_radius,\n",
    "        \"type\": target_type,\n",
    "        \"key\": g_key}\n",
    "    base_url = \"https://maps.googleapis.com/maps/api/place/nearbysearch/json\"\n",
    "\n",
    "    #Exception in case no hotel in range (unlikely but possible)\n",
    "    try:\n",
    "        response = requests.get(base_url, params=params)\n",
    "        hotel_data = response.json()\n",
    "\n",
    "        hotel_df.at[x,'Hotel Name']=hotel_data['results'][0]['name']\n",
    "        hotel_df.at[x,'Hotel Lat']=hotel_data['results'][0]['geometry']['location']['lat']\n",
    "        hotel_df.at[x,'Hotel Lng']=hotel_data['results'][0]['geometry']['location']['lng']\n",
    "    except:\n",
    "        hotel_df.at[x,'Hotel Name']='No Hotel Found'\n",
    "\n",
    "#Remove rows if no hotel found\n",
    "hotel_df=hotel_df.loc[hotel_df['Hotel Lat'].isnull()==False]\n",
    "hotel_df.head()"
   ]
  },
  {
   "cell_type": "code",
   "execution_count": 76,
   "metadata": {},
   "outputs": [
    {
     "output_type": "display_data",
     "data": {
      "text/plain": "Figure(layout=FigureLayout(border='1px solid black', height='300px', margin='0 auto 0 auto', padding='1px', wi…",
      "application/vnd.jupyter.widget-view+json": {
       "version_major": 2,
       "version_minor": 0,
       "model_id": "e37ed0a083f84336b7b1e33470423bac"
      }
     },
     "metadata": {}
    }
   ],
   "source": [
    "# Add marker layer ontop of heat map\n",
    "fig = gmaps.figure(layout=figure_layout)\n",
    "locations_specific=data_specific[['Lat','Long']]\n",
    "Humidity_specific=data_specific['Humidity']\n",
    "heat_layer = gmaps.heatmap_layer(locations_specific, weights=Humidity_specific, \n",
    "                                 dissipating=False, max_intensity=max(Humidity_specific),\n",
    "                                 point_radius=1)\n",
    "fig.add_layer(heat_layer)\n",
    "markers_coord=hotel_df[['Hotel Lat', 'Hotel Lng']]\n",
    "markers=gmaps.marker_layer(markers_coord)\n",
    "fig.add_layer(markers)\n",
    "fig\n",
    "# Display figure\n"
   ]
  },
  {
   "cell_type": "code",
   "execution_count": null,
   "metadata": {},
   "outputs": [],
   "source": []
  }
 ],
 "metadata": {
  "kernelspec": {
   "display_name": "Python 3.6.10 64-bit ('bcs': conda)",
   "language": "python",
   "name": "python_defaultSpec_1599867671551"
  },
  "language_info": {
   "codemirror_mode": {
    "name": "ipython",
    "version": 3
   },
   "file_extension": ".py",
   "mimetype": "text/x-python",
   "name": "python",
   "nbconvert_exporter": "python",
   "pygments_lexer": "ipython3",
   "version": "3.6.10-final"
  },
  "latex_envs": {
   "LaTeX_envs_menu_present": true,
   "autoclose": false,
   "autocomplete": true,
   "bibliofile": "biblio.bib",
   "cite_by": "apalike",
   "current_citInitial": 1,
   "eqLabelWithNumbers": true,
   "eqNumInitial": 1,
   "hotkeys": {
    "equation": "Ctrl-E",
    "itemize": "Ctrl-I"
   },
   "labels_anchors": false,
   "latex_user_defs": false,
   "report_style_numbering": false,
   "user_envs_cfg": false
  }
 },
 "nbformat": 4,
 "nbformat_minor": 4
}