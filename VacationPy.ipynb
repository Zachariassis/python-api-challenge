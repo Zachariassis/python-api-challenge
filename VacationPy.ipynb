{
 "cells": [
  {
   "cell_type": "code",
   "execution_count": 1,
   "metadata": {},
   "outputs": [],
   "source": [
    "# Dependencies and Setup\n",
    "import matplotlib.pyplot as plt\n",
    "import pandas as pd\n",
    "import numpy as np\n",
    "import requests\n",
    "import gmaps\n",
    "import os\n",
    "import json\n",
    "\n",
    "# Import API key\n",
    "from api_keys import g_key"
   ]
  },
  {
   "cell_type": "code",
   "execution_count": 2,
   "metadata": {},
   "outputs": [
    {
     "output_type": "execute_result",
     "data": {
      "text/plain": "       City Name    Lat   Long  Max Temp  Cloudiness  Humidity  Wind Speed  \\\n0        kamenka  51.32  42.77     56.95        55.0      43.0       10.11   \n1      tocopilla -22.09 -70.20     66.31        21.0      53.0       11.34   \n2  san cristobal   7.77 -72.22     91.40        40.0      43.0       20.80   \n3           lebu -37.62 -73.65     51.17         0.0      68.0       18.21   \n4         dikson  73.51  80.55     45.66        69.0      90.0       19.95   \n\n  Country  \n0      RU  \n1      CL  \n2      VE  \n3      CL  \n4      RU  ",
      "text/html": "<div>\n<style scoped>\n    .dataframe tbody tr th:only-of-type {\n        vertical-align: middle;\n    }\n\n    .dataframe tbody tr th {\n        vertical-align: top;\n    }\n\n    .dataframe thead th {\n        text-align: right;\n    }\n</style>\n<table border=\"1\" class=\"dataframe\">\n  <thead>\n    <tr style=\"text-align: right;\">\n      <th></th>\n      <th>City Name</th>\n      <th>Lat</th>\n      <th>Long</th>\n      <th>Max Temp</th>\n      <th>Cloudiness</th>\n      <th>Humidity</th>\n      <th>Wind Speed</th>\n      <th>Country</th>\n    </tr>\n  </thead>\n  <tbody>\n    <tr>\n      <th>0</th>\n      <td>kamenka</td>\n      <td>51.32</td>\n      <td>42.77</td>\n      <td>56.95</td>\n      <td>55.0</td>\n      <td>43.0</td>\n      <td>10.11</td>\n      <td>RU</td>\n    </tr>\n    <tr>\n      <th>1</th>\n      <td>tocopilla</td>\n      <td>-22.09</td>\n      <td>-70.20</td>\n      <td>66.31</td>\n      <td>21.0</td>\n      <td>53.0</td>\n      <td>11.34</td>\n      <td>CL</td>\n    </tr>\n    <tr>\n      <th>2</th>\n      <td>san cristobal</td>\n      <td>7.77</td>\n      <td>-72.22</td>\n      <td>91.40</td>\n      <td>40.0</td>\n      <td>43.0</td>\n      <td>20.80</td>\n      <td>VE</td>\n    </tr>\n    <tr>\n      <th>3</th>\n      <td>lebu</td>\n      <td>-37.62</td>\n      <td>-73.65</td>\n      <td>51.17</td>\n      <td>0.0</td>\n      <td>68.0</td>\n      <td>18.21</td>\n      <td>CL</td>\n    </tr>\n    <tr>\n      <th>4</th>\n      <td>dikson</td>\n      <td>73.51</td>\n      <td>80.55</td>\n      <td>45.66</td>\n      <td>69.0</td>\n      <td>90.0</td>\n      <td>19.95</td>\n      <td>RU</td>\n    </tr>\n  </tbody>\n</table>\n</div>"
     },
     "metadata": {},
     "execution_count": 2
    }
   ],
   "source": [
    "#Import data from csv\n",
    "data=pd.read_csv('WeatherPy/city_data.csv')\n",
    "#Find components for heat map\n",
    "locations=data[['Lat','Long']]\n",
    "Humidity=data['Humidity']\n",
    "data.head()"
   ]
  },
  {
   "cell_type": "code",
   "execution_count": 3,
   "metadata": {},
   "outputs": [
    {
     "output_type": "display_data",
     "data": {
      "text/plain": "Figure(layout=FigureLayout(border='1px solid black', height='300px', margin='0 auto 0 auto', padding='1px', wi…",
      "application/vnd.jupyter.widget-view+json": {
       "version_major": 2,
       "version_minor": 0,
       "model_id": "e351bc7e481047a8aa61079e8a4fe0aa"
      }
     },
     "metadata": {}
    }
   ],
   "source": [
    "#Display heat map\n",
    "gmaps.configure(api_key=g_key)\n",
    "figure_layout = {\n",
    "    'width': '400px',\n",
    "    'height': '300px',\n",
    "    'border': '1px solid black',\n",
    "    'padding': '1px',\n",
    "    'margin': '0 auto 0 auto'\n",
    "}\n",
    "fig = gmaps.figure(layout=figure_layout)\n",
    "heat_layer = gmaps.heatmap_layer(locations, weights=Humidity, \n",
    "                                 dissipating=False, max_intensity=10,\n",
    "                                 point_radius=1)\n",
    "fig.add_layer(heat_layer)\n",
    "fig"
   ]
  },
  {
   "cell_type": "code",
   "execution_count": 9,
   "metadata": {
    "tags": []
   },
   "outputs": [
    {
     "output_type": "execute_result",
     "data": {
      "text/plain": "        City Name    Lat    Long  Max Temp  Cloudiness  Humidity  Wind Speed  \\\n0         cananea  30.95 -110.30     88.00        26.0      31.0        3.00   \n1    ponta do sol  32.67  -17.10     71.60        20.0      78.0        3.36   \n2          riyadh  24.69   46.72     87.80        10.0      25.0        3.27   \n3         bulungu  -4.55   18.60     79.74         0.0      57.0        2.33   \n4          castro -24.79  -50.01     73.20        11.0      47.0        4.79   \n5      dromolaxia  34.88   33.59     80.60         0.0      78.0        4.70   \n6             bud  39.45  -86.18     80.01        40.0      57.0        4.70   \n7         kewanee  41.25  -89.92     77.00         0.0      57.0        1.99   \n8       catamarca -28.47  -65.79     79.00        29.0      40.0        4.00   \n9          salina  38.84  -97.61     82.99         1.0      37.0        4.70   \n10          avare -23.10  -48.93     80.13         0.0      34.0        1.34   \n11    san vicente -26.62  -54.13     83.55        50.0      28.0        3.76   \n12        jeremie  18.65  -74.12     83.73        64.0      71.0        3.24   \n13         parana -31.73  -60.52     75.99         0.0      34.0        4.00   \n14          ladwa  29.99   77.04     78.42         0.0      67.0        1.74   \n15          kohlu  29.90   69.25     78.94         0.0      41.0        3.87   \n16  fort atkinson  42.93  -88.84     72.00         0.0      51.0        1.99   \n17         shingu  33.73  135.98     72.05        50.0      77.0        4.79   \n18        tagusao   9.19  117.81     80.26        67.0      79.0        2.51   \n19         meybod  32.25   54.02     71.60         0.0      18.0        4.70   \n\n   Country  \n0       MX  \n1       PT  \n2       SA  \n3       CD  \n4       BR  \n5       CY  \n6       US  \n7       US  \n8       AR  \n9       US  \n10      BR  \n11      AR  \n12      HT  \n13      AR  \n14      IN  \n15      PK  \n16      US  \n17      JP  \n18      PH  \n19      IR  ",
      "text/html": "<div>\n<style scoped>\n    .dataframe tbody tr th:only-of-type {\n        vertical-align: middle;\n    }\n\n    .dataframe tbody tr th {\n        vertical-align: top;\n    }\n\n    .dataframe thead th {\n        text-align: right;\n    }\n</style>\n<table border=\"1\" class=\"dataframe\">\n  <thead>\n    <tr style=\"text-align: right;\">\n      <th></th>\n      <th>City Name</th>\n      <th>Lat</th>\n      <th>Long</th>\n      <th>Max Temp</th>\n      <th>Cloudiness</th>\n      <th>Humidity</th>\n      <th>Wind Speed</th>\n      <th>Country</th>\n    </tr>\n  </thead>\n  <tbody>\n    <tr>\n      <th>0</th>\n      <td>cananea</td>\n      <td>30.95</td>\n      <td>-110.30</td>\n      <td>88.00</td>\n      <td>26.0</td>\n      <td>31.0</td>\n      <td>3.00</td>\n      <td>MX</td>\n    </tr>\n    <tr>\n      <th>1</th>\n      <td>ponta do sol</td>\n      <td>32.67</td>\n      <td>-17.10</td>\n      <td>71.60</td>\n      <td>20.0</td>\n      <td>78.0</td>\n      <td>3.36</td>\n      <td>PT</td>\n    </tr>\n    <tr>\n      <th>2</th>\n      <td>riyadh</td>\n      <td>24.69</td>\n      <td>46.72</td>\n      <td>87.80</td>\n      <td>10.0</td>\n      <td>25.0</td>\n      <td>3.27</td>\n      <td>SA</td>\n    </tr>\n    <tr>\n      <th>3</th>\n      <td>bulungu</td>\n      <td>-4.55</td>\n      <td>18.60</td>\n      <td>79.74</td>\n      <td>0.0</td>\n      <td>57.0</td>\n      <td>2.33</td>\n      <td>CD</td>\n    </tr>\n    <tr>\n      <th>4</th>\n      <td>castro</td>\n      <td>-24.79</td>\n      <td>-50.01</td>\n      <td>73.20</td>\n      <td>11.0</td>\n      <td>47.0</td>\n      <td>4.79</td>\n      <td>BR</td>\n    </tr>\n    <tr>\n      <th>5</th>\n      <td>dromolaxia</td>\n      <td>34.88</td>\n      <td>33.59</td>\n      <td>80.60</td>\n      <td>0.0</td>\n      <td>78.0</td>\n      <td>4.70</td>\n      <td>CY</td>\n    </tr>\n    <tr>\n      <th>6</th>\n      <td>bud</td>\n      <td>39.45</td>\n      <td>-86.18</td>\n      <td>80.01</td>\n      <td>40.0</td>\n      <td>57.0</td>\n      <td>4.70</td>\n      <td>US</td>\n    </tr>\n    <tr>\n      <th>7</th>\n      <td>kewanee</td>\n      <td>41.25</td>\n      <td>-89.92</td>\n      <td>77.00</td>\n      <td>0.0</td>\n      <td>57.0</td>\n      <td>1.99</td>\n      <td>US</td>\n    </tr>\n    <tr>\n      <th>8</th>\n      <td>catamarca</td>\n      <td>-28.47</td>\n      <td>-65.79</td>\n      <td>79.00</td>\n      <td>29.0</td>\n      <td>40.0</td>\n      <td>4.00</td>\n      <td>AR</td>\n    </tr>\n    <tr>\n      <th>9</th>\n      <td>salina</td>\n      <td>38.84</td>\n      <td>-97.61</td>\n      <td>82.99</td>\n      <td>1.0</td>\n      <td>37.0</td>\n      <td>4.70</td>\n      <td>US</td>\n    </tr>\n    <tr>\n      <th>10</th>\n      <td>avare</td>\n      <td>-23.10</td>\n      <td>-48.93</td>\n      <td>80.13</td>\n      <td>0.0</td>\n      <td>34.0</td>\n      <td>1.34</td>\n      <td>BR</td>\n    </tr>\n    <tr>\n      <th>11</th>\n      <td>san vicente</td>\n      <td>-26.62</td>\n      <td>-54.13</td>\n      <td>83.55</td>\n      <td>50.0</td>\n      <td>28.0</td>\n      <td>3.76</td>\n      <td>AR</td>\n    </tr>\n    <tr>\n      <th>12</th>\n      <td>jeremie</td>\n      <td>18.65</td>\n      <td>-74.12</td>\n      <td>83.73</td>\n      <td>64.0</td>\n      <td>71.0</td>\n      <td>3.24</td>\n      <td>HT</td>\n    </tr>\n    <tr>\n      <th>13</th>\n      <td>parana</td>\n      <td>-31.73</td>\n      <td>-60.52</td>\n      <td>75.99</td>\n      <td>0.0</td>\n      <td>34.0</td>\n      <td>4.00</td>\n      <td>AR</td>\n    </tr>\n    <tr>\n      <th>14</th>\n      <td>ladwa</td>\n      <td>29.99</td>\n      <td>77.04</td>\n      <td>78.42</td>\n      <td>0.0</td>\n      <td>67.0</td>\n      <td>1.74</td>\n      <td>IN</td>\n    </tr>\n    <tr>\n      <th>15</th>\n      <td>kohlu</td>\n      <td>29.90</td>\n      <td>69.25</td>\n      <td>78.94</td>\n      <td>0.0</td>\n      <td>41.0</td>\n      <td>3.87</td>\n      <td>PK</td>\n    </tr>\n    <tr>\n      <th>16</th>\n      <td>fort atkinson</td>\n      <td>42.93</td>\n      <td>-88.84</td>\n      <td>72.00</td>\n      <td>0.0</td>\n      <td>51.0</td>\n      <td>1.99</td>\n      <td>US</td>\n    </tr>\n    <tr>\n      <th>17</th>\n      <td>shingu</td>\n      <td>33.73</td>\n      <td>135.98</td>\n      <td>72.05</td>\n      <td>50.0</td>\n      <td>77.0</td>\n      <td>4.79</td>\n      <td>JP</td>\n    </tr>\n    <tr>\n      <th>18</th>\n      <td>tagusao</td>\n      <td>9.19</td>\n      <td>117.81</td>\n      <td>80.26</td>\n      <td>67.0</td>\n      <td>79.0</td>\n      <td>2.51</td>\n      <td>PH</td>\n    </tr>\n    <tr>\n      <th>19</th>\n      <td>meybod</td>\n      <td>32.25</td>\n      <td>54.02</td>\n      <td>71.60</td>\n      <td>0.0</td>\n      <td>18.0</td>\n      <td>4.70</td>\n      <td>IR</td>\n    </tr>\n  </tbody>\n</table>\n</div>"
     },
     "metadata": {},
     "execution_count": 9
    }
   ],
   "source": [
    "#Specify Data\n",
    "\n",
    "#Not too windy\n",
    "data_specific=data.loc[data['Wind Speed']<5]\n",
    "\n",
    "#Not too hot\n",
    "data_specific=data_specific.loc[data_specific['Max Temp']<90]\n",
    "\n",
    "#Not too cold\n",
    "data_specific=data_specific.loc[data_specific['Max Temp']>70]\n",
    "\n",
    "#Not too cloudy\n",
    "data_specific=data_specific.loc[data_specific['Cloudiness']<70]\n",
    "\n",
    "#Not too humid\n",
    "data_specific=data_specific.loc[data_specific['Humidity']<80]\n",
    "data_specific=data_specific.reset_index(drop=True)\n",
    "data_specific\n"
   ]
  },
  {
   "cell_type": "code",
   "execution_count": 10,
   "metadata": {
    "tags": []
   },
   "outputs": [
    {
     "output_type": "execute_result",
     "data": {
      "text/plain": "                Hotel Name  Hotel Lat   Hotel Lng\n0            Casas Montoya  30.984748 -110.303769\n1           Hotel do Campo  32.676959  -17.066139\n2  InterContinental Riyadh  24.666677   46.692159\n4           CHACARA BAILLY -24.780711  -49.986828\n5     Flamingo Beach Hotel  34.893684   33.638300",
      "text/html": "<div>\n<style scoped>\n    .dataframe tbody tr th:only-of-type {\n        vertical-align: middle;\n    }\n\n    .dataframe tbody tr th {\n        vertical-align: top;\n    }\n\n    .dataframe thead th {\n        text-align: right;\n    }\n</style>\n<table border=\"1\" class=\"dataframe\">\n  <thead>\n    <tr style=\"text-align: right;\">\n      <th></th>\n      <th>Hotel Name</th>\n      <th>Hotel Lat</th>\n      <th>Hotel Lng</th>\n    </tr>\n  </thead>\n  <tbody>\n    <tr>\n      <th>0</th>\n      <td>Casas Montoya</td>\n      <td>30.984748</td>\n      <td>-110.303769</td>\n    </tr>\n    <tr>\n      <th>1</th>\n      <td>Hotel do Campo</td>\n      <td>32.676959</td>\n      <td>-17.066139</td>\n    </tr>\n    <tr>\n      <th>2</th>\n      <td>InterContinental Riyadh</td>\n      <td>24.666677</td>\n      <td>46.692159</td>\n    </tr>\n    <tr>\n      <th>4</th>\n      <td>CHACARA BAILLY</td>\n      <td>-24.780711</td>\n      <td>-49.986828</td>\n    </tr>\n    <tr>\n      <th>5</th>\n      <td>Flamingo Beach Hotel</td>\n      <td>34.893684</td>\n      <td>33.638300</td>\n    </tr>\n  </tbody>\n</table>\n</div>"
     },
     "metadata": {},
     "execution_count": 10
    }
   ],
   "source": [
    "#Initialize hotel dataframe\n",
    "\n",
    "hotel_df=pd.DataFrame({'Hotel Name':[],\n",
    "                       'Hotel Lat':[],\n",
    "                       'Hotel Lng':[]})\n",
    "\n",
    "#Run api search for hotels near each city\n",
    "for x in range(len(data_specific)):\n",
    "    #build url to search\n",
    "    lat=data_specific['Lat'][x]\n",
    "    lng=data_specific['Long'][x]\n",
    "    target_coordinates=f'{lat},{lng}'\n",
    "    target_radius=5000\n",
    "    target_type='lodging'\n",
    "\n",
    "    params = {\n",
    "        \"location\": target_coordinates,\n",
    "        \"radius\": target_radius,\n",
    "        \"type\": target_type,\n",
    "        \"key\": g_key}\n",
    "    base_url = \"https://maps.googleapis.com/maps/api/place/nearbysearch/json\"\n",
    "\n",
    "    #Exception in case no hotel in range (unlikely but possible)\n",
    "    try:\n",
    "        response = requests.get(base_url, params=params)\n",
    "        hotel_data = response.json()\n",
    "\n",
    "        hotel_df.at[x,'Hotel Name']=hotel_data['results'][0]['name']\n",
    "        hotel_df.at[x,'Hotel Lat']=hotel_data['results'][0]['geometry']['location']['lat']\n",
    "        hotel_df.at[x,'Hotel Lng']=hotel_data['results'][0]['geometry']['location']['lng']\n",
    "    except:\n",
    "        hotel_df.at[x,'Hotel Name']='No Hotel Found'\n",
    "\n",
    "#Remove rows if no hotel found\n",
    "hotel_df=hotel_df.loc[hotel_df['Hotel Lat'].isnull()==False]\n",
    "hotel_df.head()"
   ]
  },
  {
   "cell_type": "code",
   "execution_count": 11,
   "metadata": {},
   "outputs": [
    {
     "output_type": "display_data",
     "data": {
      "text/plain": "Figure(layout=FigureLayout(border='1px solid black', height='300px', margin='0 auto 0 auto', padding='1px', wi…",
      "application/vnd.jupyter.widget-view+json": {
       "version_major": 2,
       "version_minor": 0,
       "model_id": "967b91d99d6a44e7866d89dab106d530"
      }
     },
     "metadata": {}
    }
   ],
   "source": [
    "# Add marker layer ontop of heat map\n",
    "fig = gmaps.figure(layout=figure_layout)\n",
    "locations_specific=data_specific[['Lat','Long']]\n",
    "Humidity_specific=data_specific['Humidity']\n",
    "heat_layer = gmaps.heatmap_layer(locations_specific, weights=Humidity_specific, \n",
    "                                 dissipating=False, max_intensity=max(Humidity_specific),\n",
    "                                 point_radius=1)\n",
    "fig.add_layer(heat_layer)\n",
    "markers_coord=hotel_df[['Hotel Lat', 'Hotel Lng']]\n",
    "markers=gmaps.marker_layer(markers_coord)\n",
    "fig.add_layer(markers)\n",
    "fig\n",
    "# Display figure\n"
   ]
  },
  {
   "cell_type": "code",
   "execution_count": null,
   "metadata": {},
   "outputs": [],
   "source": []
  }
 ],
 "metadata": {
  "kernelspec": {
   "display_name": "Python 3.6.10 64-bit ('bcs': conda)",
   "language": "python",
   "name": "python_defaultSpec_1599867671551"
  },
  "language_info": {
   "codemirror_mode": {
    "name": "ipython",
    "version": 3
   },
   "file_extension": ".py",
   "mimetype": "text/x-python",
   "name": "python",
   "nbconvert_exporter": "python",
   "pygments_lexer": "ipython3",
   "version": "3.6.10-final"
  },
  "latex_envs": {
   "LaTeX_envs_menu_present": true,
   "autoclose": false,
   "autocomplete": true,
   "bibliofile": "biblio.bib",
   "cite_by": "apalike",
   "current_citInitial": 1,
   "eqLabelWithNumbers": true,
   "eqNumInitial": 1,
   "hotkeys": {
    "equation": "Ctrl-E",
    "itemize": "Ctrl-I"
   },
   "labels_anchors": false,
   "latex_user_defs": false,
   "report_style_numbering": false,
   "user_envs_cfg": false
  }
 },
 "nbformat": 4,
 "nbformat_minor": 4
}